{
 "cells": [
  {
   "cell_type": "markdown",
   "id": "f1d44b29",
   "metadata": {},
   "source": [
    "<a target=\"_blank\"\n",
    "  href=\"https://colab.research.google.com/github/sk-classroom/aps-recurrent_neural_network/blob/main/assignment/assignment.ipynb\">\n",
    "  <img src=\"https://colab.research.google.com/assets/colab-badge.svg\" alt=\"Open In Colab\"/>\n",
    "</a>\n",
    "\n",
    "# Assignment: 🛍️ Predicting Purchases with Recurrent Neural Networks (RNNs)  \n",
    "\n",
    "![](https://cdn.prod.website-files.com/663e17fff238bd97b0a022cd/6645d94cef2950a240114cda_amazon-recommendations-category-page.jpeg)\n",
    "\n",
    "\n",
    "\n",
    "## **Why Does This Matter?**  \n",
    "\n",
    "Every time you browse an online store, the platform tracks your interactions—what you click, how long you view an item, and what you ultimately buy. These behavioral sequences contain rich patterns that companies use to predict future purchases, recommend products, and optimize sales strategies. But how do they do this?  \n",
    "\n",
    "One powerful approach is using **Recurrent Neural Networks (RNNs)**, a class of neural networks specifically designed to process sequential data. Unlike traditional models that treat data points independently, RNNs maintain a memory of past interactions, making them well-suited for tasks like product recommendation, speech recognition, and time-series forecasting.  \n",
    "\n",
    "In this assignment, you will build an RNN that predicts which product a user will purchase based on their viewing history. You will start with AI-generated code that has flaws—your job is to diagnose and fix these issues, ensuring the model reaches an acceptable accuracy level. This exercise will strengthen your ability to work with sequential data and debug deep learning models.  \n",
    "\n",
    "\n",
    "## **Your Task**  \n",
    "\n",
    "You will develop an RNN-based model that processes user viewing histories and predicts the product they will buy. The dataset consists of sequences of product views, with a label indicating the purchased product.  \n",
    "\n",
    "- 📂 **Dataset**: Provided as `train_data.csv` and `test_data.csv` in the `./data` folder.  \n",
    "- 🔢 **Product IDs**: 34 distinct products, labeled from `0` to `34`.  \n",
    "\n",
    "### **What You Need to Do**  \n",
    "\n",
    "1. **Understand the Problem**: You will work with sequential purchase data, applying RNNs to make predictions.  \n",
    "2. **Fix the AI-Generated Code**: The provided RNN implementation is flawed. Carefully debug and improve it to meet performance requirements.  \n",
    "3. **Optimize Your Model**: Tune hyperparameters (e.g., hidden size, number of layers, learning rate) while ensuring efficient training.  \n",
    "4. **Train & Evaluate**: Train your model on `train_data.csv` and ensure it achieves at least **50% accuracy** on `test_data.csv`.  \n",
    "5. **Submit Your Work**: Save your trained model and notebook as specified below.  \n",
    "\n",
    "\n",
    "## **Model Requirements**  \n",
    "\n",
    "✅ **Architecture**  \n",
    "- Implement an **RNN** that processes sequential product-viewing data.  \n",
    "- You may NOT use **LSTMs or GRUs** to enhance model performance.  \n",
    "- Do not import additional libraries—the grading script will fail otherwise.  \n",
    "\n",
    "✅ **Performance Goals**  \n",
    "- Achieve at least **65% accuracy** when predicting purchases.  \n",
    "\n",
    "✅ **Efficiency Constraints**  \n",
    "- The model must run **within GitHub Actions** without timing out or exceeding memory limits.  \n",
    "- Use batch processing and efficient tensor operations.  \n",
    "\n",
    "✅ **Debugging & Improvement**  \n",
    "- The provided RNN code **contains errors**. You must find and correct them.  \n",
    "- Pay special attention to **activation functions, gradient clipping, loss computation, and data handling**.  \n",
    "\n",
    "✅ **Submission Guidelines**  \n",
    "- Save your trained model as `trained_model.pth` in `./assignment`.  \n",
    "- Your notebook should be named **`assignment.ipynb`** and placed in `./assignment`.  \n",
    "- Use `git add`, `git commit`, and `git push` to submit your work.  \n",
    "\n",
    "\n",
    "## **Important Rules**  \n",
    "\n",
    "🚫 **Don’ts:**  \n",
    "- ❌ Do **not** import any additional libraries.  \n",
    "- ❌ Do **not** modify function names—grading scripts rely on them.  \n",
    "- ❌ Do **not** remove cells tagged `\"gradable\"`; they are required for grading.  \n",
    "\n",
    "✅ **Do’s:**  \n",
    "- ✔️ Use linters & formatters (e.g., `black`) for clean, readable code.  \n",
    "- ✔️ Add comments and explanations to make your work understandable.  \n",
    "- ✔️ If adding new code cells, tag them as `\"gradable\"` if they should be evaluated.  "
   ]
  },
  {
   "cell_type": "code",
   "execution_count": null,
   "id": "7d886479",
   "metadata": {},
   "outputs": [],
   "source": [
    "from typing import Tuple, Optional\n",
    "from torch import Tensor, zeros, eye, int64, tanh, no_grad, save, load, max\n",
    "from torch.nn import Module, Linear, ReLU, Embedding, CrossEntropyLoss\n",
    "from torch.utils.data import Dataset, DataLoader, random_split\n",
    "from torch.optim import Adam\n",
    "from torch.nn.utils import clip_grad_norm_\n",
    "import numpy as np\n",
    "from pandas import read_csv"
   ]
  },
  {
   "cell_type": "markdown",
   "id": "c8302e22",
   "metadata": {},
   "source": [
    "Let's load the training and testing CSV data. Each row captures a user’s product-viewing sequence and the final product they purchased. We will later transform these raw sequences into a form suitable for our model."
   ]
  },
  {
   "cell_type": "code",
   "execution_count": null,
   "id": "59ef1585",
   "metadata": {},
   "outputs": [],
   "source": [
    "train_data_table = read_csv(\"../data/train_data.csv\")\n",
    "test_data_table = read_csv(\"../data/test_data.csv\")"
   ]
  },
  {
   "cell_type": "markdown",
   "id": "81135d00",
   "metadata": {},
   "source": [
    "Here, we define our custom dataset that uses one-hot embeddings and build the basic RNN structure. The dataset class handles transformation of product IDs into embeddings, and the custom RNN uses linear layers to process sequential data."
   ]
  },
  {
   "cell_type": "code",
   "execution_count": null,
   "id": "606c5506",
   "metadata": {
    "tags": [
     "gradable"
    ]
   },
   "outputs": [],
   "source": [
    "class CustomDataset(Dataset):\n",
    "    \"\"\"Dataset for time series prediction.\n",
    "    HINT: Think about what type of data PyTorch expects\n",
    "    \"\"\"\n",
    "    def __init__(self, vocab_size: int, sequences: Tensor, target: Tensor):\n",
    "        self.sequences = sequences\n",
    "        self.target = target\n",
    "\n",
    "        # One hot encoding\n",
    "        self.embedding = Embedding(num_embeddings=vocab_size, embedding_dim=vocab_size)\n",
    "        self.embedding.weight.data = eye(vocab_size)\n",
    "        self.embedding.weight.requires_grad = False\n",
    "\n",
    "    def __len__(self) -> int:\n",
    "        return self.sequences.shape[0]\n",
    "\n",
    "    def __getitem__(self, idx: int) -> Tuple[Tensor, Tensor]:\n",
    "        seq, target = self.sequences[idx, :], self.target[idx]\n",
    "\n",
    "        # one hot encoding\n",
    "        seq_one_hot = self.embedding(seq)\n",
    "\n",
    "        return seq_one_hot, target"
   ]
  },
  {
   "cell_type": "markdown",
   "id": "a76a1749",
   "metadata": {},
   "source": [
    "\n",
    "Each input sequence consists of a series of product IDs. Since neural networks operate on numerical vectors rather than categorical IDs, we use **one-hot encoding**:\n",
    "\n",
    "$$\n",
    "x_i \\in \\{0,1\\}^{V}\n",
    "$$\n",
    "\n",
    "where $V$ is the vocabulary size (number of unique product IDs). For a given sequence $ S = (s_1, s_2, ..., s_T)$, each $s_t$ is transformed into a one-hot vector.\n",
    "\n",
    "For instance, if $V = 34$ and a product ID is **5**, its one-hot encoding would be:\n",
    "\n",
    "$$\n",
    "[0,0,0,0,0,1,0,...,0] \\quad \\text{(34-dimensional vector)}\n",
    "$$\n",
    "\n",
    "The embedding layer in the dataset definition performs this transformation.\n",
    "\n",
    "We split the dataset into training and validation sets. By specifying a ratio, we ensure part of the data is held out for validation to check our model’s performance during training."
   ]
  },
  {
   "cell_type": "code",
   "execution_count": null,
   "id": "f4acb754",
   "metadata": {
    "tags": [
     "gradable"
    ]
   },
   "outputs": [],
   "source": [
    "def prepare_data_splits(dataset: Dataset, train_ratio: float,\n",
    "                       batch_size: int) -> Tuple[DataLoader, DataLoader]:\n",
    "    \"\"\"Split dataset into training and validation sets.\n",
    "    \"\"\"\n",
    "    train_size = int(train_ratio * (len(dataset)))\n",
    "    val_size = len(dataset) - train_size\n",
    "\n",
    "    train_dataset, val_dataset = random_split(\n",
    "        dataset,\n",
    "        [train_size, val_size],\n",
    "    )\n",
    "\n",
    "    train_loader = DataLoader(\n",
    "        train_dataset,\n",
    "        batch_size=batch_size,\n",
    "        shuffle=True\n",
    "    )\n",
    "\n",
    "    val_loader = DataLoader(\n",
    "        val_dataset,\n",
    "        batch_size=batch_size,\n",
    "        shuffle=False\n",
    "    )\n",
    "\n",
    "    return train_loader, val_loader"
   ]
  },
  {
   "cell_type": "markdown",
   "id": "3333e76d",
   "metadata": {},
   "source": [
    "In our RNN, the hidden state is updated at each time step using the recurrence relation:\n",
    "\n",
    "$$\n",
    "h_t = \\tanh(W_x x_t + W_h h_{t-1} + b)\n",
    "$$\n",
    "\n",
    "where:\n",
    "\n",
    "- $ x_t \\in \\mathbb{R}^{V} $ is the one-hot encoded product viewed at time $ t $,\n",
    "- $ h_t \\in \\mathbb{R}^{H} $ is the hidden state at time $ t $,\n",
    "- $ W_x \\in \\mathbb{R}^{H \\times V} $ is the weight matrix for the input,\n",
    "- $ W_h \\in \\mathbb{R}^{H \\times H} $ is the recurrent weight matrix,\n",
    "- $ b \\in \\mathbb{R}^{H} $ is the bias term,\n",
    "- $ \\tanh(\\cdot) $ is a non-linear activation function.\n",
    "\n",
    "The final output layer projects the hidden state into an output vector:\n",
    "\n",
    "$\n",
    "o = W_o h_T + b_o\n",
    "$\n",
    "\n",
    "where $ W_o \\in \\mathbb{R}^{V \\times H} $ maps the hidden state to a probability distribution over product IDs.\n"
   ]
  },
  {
   "cell_type": "code",
   "execution_count": null,
   "id": "2200c806",
   "metadata": {
    "tags": [
     "gradable"
    ]
   },
   "outputs": [],
   "source": [
    "class CustomNeuralNetwork(Module):\n",
    "    \"\"\"Basic RNN for time series prediction.\n",
    "    HINT: What makes neural networks non-linear?\n",
    "    \"\"\"\n",
    "    def __init__(self, input_size: int, hidden_size: int, output_size: int):\n",
    "        super(CustomNeuralNetwork, self).__init__()\n",
    "        self.input_size = input_size  # Store input size\n",
    "        self.hidden_size = hidden_size\n",
    "        self.output_size = output_size  # Store output size\n",
    "        self.l1 = Linear(input_size, hidden_size)\n",
    "        self.l2 = Linear(hidden_size, hidden_size)\n",
    "        self.l3 = Linear(hidden_size, output_size)\n",
    "\n",
    "    def forward(self, x: Tensor, h_0: Optional[Tensor] = None) -> Tensor:\n",
    "        \"\"\" Forward pass of the RNN.\"\"\"\n",
    "        batch_size, seq_length, n_features = x.size()\n",
    "\n",
    "        if h_0 is None:\n",
    "            z = zeros(batch_size, self.hidden_size)\n",
    "        else:\n",
    "            z = h_0\n",
    "\n",
    "        for t in range(seq_length):\n",
    "            x_t = x[:, t, :]\n",
    "            h_t = self.l1(x_t) + self.l2(z)\n",
    "            h_t = tanh(h_t)\n",
    "\n",
    "        output = self.l3(h_t)\n",
    "        return output"
   ]
  },
  {
   "cell_type": "markdown",
   "id": "2985a25d",
   "metadata": {},
   "source": [
    "Next, we implement the training loop. \n",
    "\n",
    "We use **cross-entropy loss**, which is defined as:\n",
    "\n",
    "$$\n",
    "\\mathcal{L} = -\\frac{1}{N} \\sum_{i=1}^{N} \\sum_{c=1}^{C} y_{i,c} \\log (\\hat{y}_{i,c})\n",
    "$$\n",
    "\n",
    "where:\n",
    "\n",
    "- $ y_{i,c} $ is the one-hot encoded target (ground truth),\n",
    "- $ \\hat{y}_{i,c} $ is the predicted probability for class $ c $ from the softmax output,\n",
    "- $ N $ is the number of training examples,\n",
    "- $ C $ is the number of product categories.\n",
    "\n",
    "We measure training and validation losses to monitor the model’s performance."
   ]
  },
  {
   "cell_type": "code",
   "execution_count": null,
   "id": "30f2ead9",
   "metadata": {
    "tags": [
     "gradable"
    ]
   },
   "outputs": [],
   "source": [
    "def train_model(model: Module,\n",
    "                train_loader: DataLoader,\n",
    "                val_loader: DataLoader,\n",
    "                num_epochs: int,\n",
    "                learning_rate: float,\n",
    "                ) -> dict:\n",
    "    \"\"\"Train the RNN model.\n",
    "    \"\"\"\n",
    "    criterion = CrossEntropyLoss()\n",
    "    optimizer = Adam(model.parameters(), lr=learning_rate)\n",
    "\n",
    "    history = {'train_loss': [], 'val_loss': []}\n",
    "\n",
    "    for epoch in range(num_epochs):\n",
    "        model.train()\n",
    "        train_losses = []\n",
    "\n",
    "        for x_batch, y_batch in train_loader:\n",
    "            predictions = model(x_batch)\n",
    "            loss = criterion(predictions, y_batch.squeeze())\n",
    "            loss.backward()\n",
    "            optimizer.step()\n",
    "            train_losses.append(loss.item())\n",
    "\n",
    "        model.eval()\n",
    "        val_losses = []\n",
    "\n",
    "        with no_grad():\n",
    "            for x_batch, y_batch in val_loader:\n",
    "                predictions = model(x_batch)\n",
    "                loss = criterion(predictions, y_batch.squeeze())\n",
    "                val_losses.append(loss.item())\n",
    "\n",
    "            history['train_loss'].append(np.mean(train_losses))\n",
    "            history['val_loss'].append(np.mean(val_losses))\n",
    "\n",
    "    history[\"train_loss\"] = Tensor(history[\"train_loss\"])\n",
    "    history[\"val_loss\"] = Tensor(history[\"val_loss\"])\n",
    "    return history"
   ]
  },
  {
   "cell_type": "markdown",
   "id": "f0047e3a",
   "metadata": {},
   "source": [
    "Now, let's train the model using the training data.\n",
    "We collect the product IDs and targets from the training CSV, then create our dataset and data loaders. Setting up the model with our chosen hyperparameters, we call the training function and track losses with each epoch."
   ]
  },
  {
   "cell_type": "code",
   "execution_count": null,
   "id": "13bacb2b",
   "metadata": {},
   "outputs": [],
   "source": [
    "# Generate synthetic time series data\n",
    "target = Tensor(train_data_table[\"target\"].values).to(int64)\n",
    "seqs = Tensor(train_data_table.drop(columns=[\"target\"]).values).to(int64)\n",
    "\n",
    "# Create dataset and split into train/val\n",
    "vocab_size = 34\n",
    "dataset = CustomDataset(vocab_size=vocab_size, sequences=seqs, target=target)\n",
    "train_loader, val_loader = prepare_data_splits(\n",
    "    dataset=dataset,\n",
    "    train_ratio=0.8,\n",
    "    batch_size=32\n",
    ")\n",
    "\n",
    "# Initialize and train model\n",
    "input_size = vocab_size\n",
    "hidden_size = 4\n",
    "num_epochs = 50\n",
    "model = CustomNeuralNetwork(input_size=input_size, hidden_size=hidden_size, output_size=input_size)\n",
    "\n",
    "history = train_model(\n",
    "    model=model,\n",
    "    train_loader=train_loader,\n",
    "    val_loader=val_loader,\n",
    "    num_epochs=num_epochs,\n",
    "    learning_rate=1e-2\n",
    ")"
   ]
  },
  {
   "cell_type": "markdown",
   "id": "38a03994",
   "metadata": {},
   "source": [
    "Let's plot the training and validation losses to monitor the model’s performance. If the model learns well, both training and validation losses should decrease over time. If you see that the validation loss is not decreasing, it means that the model is overfitting to the training data. Consider increasing the number of epochs, decreasing the learning rate, and changing the model hyperparameters."
   ]
  },
  {
   "cell_type": "code",
   "execution_count": null,
   "id": "2a20d22a",
   "metadata": {},
   "outputs": [
    {
     "data": {
      "image/png": "[encoded data removed]",
      "text/plain": [
       "<Figure size 700x500 with 1 Axes>"
      ]
     },
     "metadata": {},
     "output_type": "display_data"
    }
   ],
   "source": [
    "import seaborn as sns\n",
    "import matplotlib.pyplot as plt\n",
    "\n",
    "sns.set_style('white')\n",
    "sns.set(font_scale=1.2)\n",
    "sns.set_style('ticks')\n",
    "fig, ax = plt.subplots(figsize=(7,5))\n",
    "\n",
    "sns.lineplot(x=range(1, num_epochs + 1), y=history['train_loss'], label='Training Loss', ax  = ax)\n",
    "sns.lineplot(x=range(1, num_epochs + 1), y=history['val_loss'], label='Validation Loss', ax = ax)\n",
    "ax.set_xlabel('Epoch')\n",
    "ax.set_ylabel('Loss')\n",
    "sns.despine()"
   ]
  },
  {
   "cell_type": "markdown",
   "id": "64c63f98",
   "metadata": {},
   "source": [
    "We save the model by first gathering its parameters, then storing them in a file. There is also a helper function to load the model if needed later. MAKE SURE TO UPDLOAD THE MODEL TO GITHUB IF YOU WANT TO GET GRADED. You should upload the `trained_model.pth` file to \"./assignment\" folder in the repository. "
   ]
  },
  {
   "cell_type": "code",
   "execution_count": null,
   "id": "8c3ec57a",
   "metadata": {
    "tags": [
     "gradable"
    ]
   },
   "outputs": [],
   "source": [
    "def save_model(model, filepath):\n",
    "    # Get model parameters\n",
    "    model_params = {\n",
    "        'input_size': model.input_size,\n",
    "        'hidden_size': model.hidden_size,\n",
    "        'output_size': model.output_size,\n",
    "        'state_dict': model.state_dict()\n",
    "    }\n",
    "\n",
    "    # Save model parameters and state\n",
    "    save(model_params, filepath)\n",
    "\n",
    "def load_model(filepath):\n",
    "    # Load model parameters and state\n",
    "    model_params = load(filepath)\n",
    "\n",
    "    # Create model with saved parameters\n",
    "    model = CustomNeuralNetwork(\n",
    "        input_size=model_params['input_size'],\n",
    "        hidden_size=model_params['hidden_size'],\n",
    "        output_size=model_params['output_size']\n",
    "    )\n",
    "\n",
    "    # Load the state dictionary\n",
    "    model.load_state_dict(model_params['state_dict'])\n",
    "\n",
    "    return model\n",
    "\n",
    "# Save the trained model\n",
    "save_model(model, 'trained_model.pth')"
   ]
  },
  {
   "cell_type": "markdown",
   "id": "55cd4ee4",
   "metadata": {},
   "source": [
    "Next, we compute and compare the random baseline accuracy with our model’s accuracy on the test set. A higher score than random guessing suggests the RNN is learning patterns from user viewing sequences"
   ]
  },
  {
   "cell_type": "code",
   "execution_count": null,
   "id": "82b58155",
   "metadata": {},
   "outputs": [
    {
     "name": "stdout",
     "output_type": "stream",
     "text": [
      "Random Baseline Accuracy: 2.94%\n",
      "Model Test Accuracy: 72.40%\n"
     ]
    }
   ],
   "source": [
    "# Apply the model to the test set and compute the prediction accuracy\n",
    "# Prepare test data\n",
    "test_target = Tensor(test_data_table[\"target\"].values).to(int64)\n",
    "test_seqs = Tensor(test_data_table.drop(columns=[\"target\"]).values).to(int64)\n",
    "test_dataset = CustomDataset(vocab_size=vocab_size, sequences=test_seqs, target=test_target)\n",
    "test_loader = DataLoader(test_dataset, batch_size=128, shuffle=False)\n",
    "\n",
    "# First calculate random baseline accuracy\n",
    "random_accuracy = 100 * 1.0 / vocab_size\n",
    "print(f'Random Baseline Accuracy: {random_accuracy:.2f}%')\n",
    "\n",
    "# Evaluate model on test set\n",
    "model.eval()\n",
    "correct = 0\n",
    "total = 0\n",
    "\n",
    "with no_grad():\n",
    "    for x_batch, y_batch in test_loader:\n",
    "        predictions = model(x_batch)\n",
    "        _, predicted = max(predictions, 1)\n",
    "        total += y_batch.size(0)\n",
    "        correct += (predicted == y_batch.squeeze()).sum().item()\n",
    "\n",
    "test_accuracy = 100 * correct / total\n",
    "print(f'Model Test Accuracy: {test_accuracy:.2f}%')"
   ]
  }
 ],
 "metadata": {
  "kernelspec": {
   "display_name": "advnetsci",
   "language": "python",
   "name": "python3"
  },
  "language_info": {
   "name": "python",
   "version": "3.11.0"
  }
 },
 "nbformat": 4,
 "nbformat_minor": 5
}
